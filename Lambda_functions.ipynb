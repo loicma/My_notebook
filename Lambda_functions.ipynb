{
 "cells": [
  {
   "cell_type": "markdown",
   "id": "ebef2e4d-0684-412d-b3d8-9d0ae8764e08",
   "metadata": {},
   "source": [
    "# Python lambda"
   ]
  },
  {
   "cell_type": "code",
   "execution_count": 2,
   "id": "46ed1f7c-adc4-4ef0-a5e4-517336e7e348",
   "metadata": {},
   "outputs": [
    {
     "data": {
      "text/plain": [
       "8"
      ]
     },
     "execution_count": 2,
     "metadata": {},
     "output_type": "execute_result"
    }
   ],
   "source": [
    "raise_to_power = lambda x, y: x ** y\n",
    "raise_to_power(2, 3)"
   ]
  },
  {
   "cell_type": "code",
   "execution_count": 3,
   "id": "66c8b2b5-6e96-4b20-84e9-0eb923c4b3ef",
   "metadata": {},
   "outputs": [
    {
     "name": "stdout",
     "output_type": "stream",
     "text": [
      "<map object at 0x0000025568413460>\n",
      "[2304, 36, 81, 441, 1]\n"
     ]
    }
   ],
   "source": [
    "nums = [48, 6, 9, 21, 1]\n",
    "square_all = map(lambda num: num ** 2, nums)\n",
    "print(square_all)\n",
    "print(list(square_all))"
   ]
  },
  {
   "cell_type": "code",
   "execution_count": 4,
   "id": "1672868b-d760-47a1-ac13-7dc1a3e647b0",
   "metadata": {},
   "outputs": [],
   "source": [
    "def echo_word(word1, echo):\n",
    "    \"\"\"Concatenate echo copies of word1.\"\"\"\n",
    "    words = word1 * echo\n",
    "    return words"
   ]
  },
  {
   "cell_type": "code",
   "execution_count": 5,
   "id": "30c452f1-439e-41c9-8f03-4750febbb138",
   "metadata": {},
   "outputs": [
    {
     "name": "stdout",
     "output_type": "stream",
     "text": [
      "heyheyheyheyhey\n"
     ]
    }
   ],
   "source": [
    "# Define echo_word as a lambda function: echo_word\n",
    "echo_word = (lambda word1, echo: word1 * echo)\n",
    "\n",
    "# Call echo_word: result\n",
    "result = echo_word('hey', 5)\n",
    "\n",
    "# Print result\n",
    "print(result)"
   ]
  },
  {
   "cell_type": "code",
   "execution_count": null,
   "id": "f31fb017-ffc3-4f9d-b1f4-94739b7f139b",
   "metadata": {},
   "outputs": [],
   "source": []
  }
 ],
 "metadata": {
  "kernelspec": {
   "display_name": "Python 3 (ipykernel)",
   "language": "python",
   "name": "python3"
  },
  "language_info": {
   "codemirror_mode": {
    "name": "ipython",
    "version": 3
   },
   "file_extension": ".py",
   "mimetype": "text/x-python",
   "name": "python",
   "nbconvert_exporter": "python",
   "pygments_lexer": "ipython3",
   "version": "3.8.12"
  }
 },
 "nbformat": 4,
 "nbformat_minor": 5
}
