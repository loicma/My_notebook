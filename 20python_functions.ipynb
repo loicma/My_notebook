{
 "cells": [
  {
   "cell_type": "markdown",
   "id": "bcf61bad-b863-4f56-9184-ffd8b3cb92da",
   "metadata": {},
   "source": [
    "# 20 Python function to know & some arrays function"
   ]
  },
  {
   "cell_type": "markdown",
   "id": "ff269065-6b82-4ecb-aa6d-70b8a97cab95",
   "metadata": {},
   "source": [
    "### reduce()\n",
    "Python's reduce() function iterates over each item in a list, or any other iterable data type, and returns a single value. It's one of the methods of the built-in functools class of Python."
   ]
  },
  {
   "cell_type": "code",
   "execution_count": 1,
   "id": "a717e131-2eae-49c1-9082-00ee41db2db8",
   "metadata": {},
   "outputs": [
    {
     "name": "stdout",
     "output_type": "stream",
     "text": [
      "16\n"
     ]
    }
   ],
   "source": [
    "from functools import reduce\n",
    "def add_num(a, b):\n",
    "   return a+b\n",
    "a = [1, 2, 3, 10]\n",
    "print(reduce(add_num, a))\n",
    "Output: 16"
   ]
  },
  {
   "cell_type": "markdown",
   "id": "022df4f9-1658-4dab-9860-8a34ea2d8d85",
   "metadata": {},
   "source": [
    "### split()"
   ]
  },
  {
   "cell_type": "code",
   "execution_count": 2,
   "id": "92e8c3df-a365-4529-be44-81ad1a4472b0",
   "metadata": {},
   "outputs": [
    {
     "name": "stdout",
     "output_type": "stream",
     "text": [
      "['column1', 'column2', 'column3']\n"
     ]
    }
   ],
   "source": [
    "words = \"column1 column2 column3\"\n",
    "words = words.split(\" \")\n",
    "print(words)\n",
    "Output: ['column1', 'column2', 'column3']"
   ]
  },
  {
   "cell_type": "markdown",
   "id": "d22981a8-6e0f-43fc-92ba-9be989e3574e",
   "metadata": {},
   "source": [
    "### enumerate()\n",
    "The enumerate() function returns the length of an iterable and loops through its items simultaneously. Thus, while printing each item in an iterable data type, it simultaneously outputs its index."
   ]
  },
  {
   "cell_type": "code",
   "execution_count": 3,
   "id": "0540b245-f709-4bd1-900e-b14817a398dd",
   "metadata": {},
   "outputs": [
    {
     "name": "stdout",
     "output_type": "stream",
     "text": [
      "0 grape\n",
      "1 apple\n",
      "2 mango\n"
     ]
    }
   ],
   "source": [
    "fruits = [\"grape\", \"apple\", \"mango\"]\n",
    "for i, j in enumerate(fruits):\n",
    "    print(i, j)\n"
   ]
  },
  {
   "cell_type": "markdown",
   "id": "66811c6c-1814-4503-8c1a-9b658aa6ff66",
   "metadata": {},
   "source": [
    "### eval()"
   ]
  },
  {
   "cell_type": "code",
   "execution_count": 4,
   "id": "83f91995-b12f-425b-b16a-1a12fa601133",
   "metadata": {},
   "outputs": [
    {
     "name": "stdout",
     "output_type": "stream",
     "text": [
      "5.0\n"
     ]
    }
   ],
   "source": [
    "g = \"(4 * 5)/4\"\n",
    "d = eval(g)\n",
    "print(d)"
   ]
  },
  {
   "cell_type": "markdown",
   "id": "0525ea40-e229-4153-b050-69738d64de00",
   "metadata": {},
   "source": [
    "### round()"
   ]
  },
  {
   "cell_type": "code",
   "execution_count": 5,
   "id": "77ece069-097a-474e-b4ec-f6a87560cb37",
   "metadata": {},
   "outputs": [
    {
     "name": "stdout",
     "output_type": "stream",
     "text": [
      "The raw average is: 11.333333333333334\n",
      "The rounded average is: 11.33\n"
     ]
    }
   ],
   "source": [
    "raw_average = (4+5+7/3)\n",
    "rounded_average=round(raw_average, 2)\n",
    "print(\"The raw average is:\", raw_average)\n",
    "print(\"The rounded average is:\", rounded_average)"
   ]
  },
  {
   "cell_type": "markdown",
   "id": "8280b3ca-0b68-4b64-a76d-d4da9a453dce",
   "metadata": {},
   "source": [
    "### max()\n",
    "The max() function returns the highest ranked item in an iterable. Be careful not to confuse this with the most frequently occurring value, though.\n",
    "Let's print the highest ranked value in the dictionary below using the max() function:\n",
    "The code above ranks the items in the dictionary alphabetically and prints the last one.\n",
    "\n",
    "Or you can use the max() function to see the largest integer in a list (second example):\n",
    "\n",
    "You can also use the min() function"
   ]
  },
  {
   "cell_type": "code",
   "execution_count": 6,
   "id": "0c4e6e9e-c068-4416-8418-dc7b1289a201",
   "metadata": {},
   "outputs": [
    {
     "name": "stdout",
     "output_type": "stream",
     "text": [
      "zebra\n",
      "65\n"
     ]
    }
   ],
   "source": [
    "b = {1:\"grape\", 2:\"apple\", 3:\"applesss\", 4:\"zebra\", 5:\"mango\"}\n",
    "print(max(b.values()))\n",
    "\n",
    "i = [1, 65, 7, 9]\n",
    "print(max(i))"
   ]
  },
  {
   "cell_type": "markdown",
   "id": "ba86c46d-2931-407d-b6fd-5828693c6bb6",
   "metadata": {},
   "source": [
    "### map()\n",
    "Like reduce(), the map() function lets you iterate over each item in an iterable. However, instead of producing a single result, map() operates on each item independently.\n",
    "Ultimately, you can perform mathematical operations on two or more lists using the map() function. You can even use it to manipulate an array containing any data type.\n",
    "Here's how to find the combined sum of two lists containing integers using the map() function:"
   ]
  },
  {
   "cell_type": "code",
   "execution_count": 7,
   "id": "4a4b2b96-0b81-45f2-aae7-0f906e450d15",
   "metadata": {},
   "outputs": [
    {
     "name": "stdout",
     "output_type": "stream",
     "text": [
      "96\n"
     ]
    }
   ],
   "source": [
    "b = [1, 3, 4, 6]\n",
    "a = [1, 65, 7, 9]\n",
    "# Declare a separate function to handle the addition: \n",
    "def add(a, b):\n",
    "    return a+b\n",
    "# Pass the function and the two lists into the built-in map() function: \n",
    "a = sum(map(add, b, a))\n",
    "print(a) "
   ]
  },
  {
   "cell_type": "markdown",
   "id": "edbdbf4d-e3ea-47fa-86d3-574a4e5b5a43",
   "metadata": {},
   "source": [
    "### getattr()\n",
    "Python's getattr() returns the attribute of an object. It accepts two parameters: the class and the target attribute name."
   ]
  },
  {
   "cell_type": "code",
   "execution_count": 8,
   "id": "c9e9eb64-af2e-48a6-86da-6bd65f1ead59",
   "metadata": {},
   "outputs": [
    {
     "name": "stdout",
     "output_type": "stream",
     "text": [
      "Idowu\n"
     ]
    }
   ],
   "source": [
    "class ty:\n",
    "    def __init__(self, number, name):\n",
    "        self.number = number\n",
    "        self.name = name\n",
    "a = ty(5*8, \"Idowu\")\n",
    "b = getattr(a, 'name')\n",
    "print(b)"
   ]
  },
  {
   "cell_type": "markdown",
   "id": "cdc2ae32-3ede-4531-8a0e-14f83d91f151",
   "metadata": {},
   "source": [
    "### append()\n",
    "Whether you're delving into web development or machine learning with Python, append() is another Python method you'll often need. It works by writing new data into a list without overwriting its original content.\n",
    "The example below multiplies each item in a range of integers by three and writes them into an existing list:"
   ]
  },
  {
   "cell_type": "code",
   "execution_count": 9,
   "id": "90addfde-dd81-4613-9b40-5f97b64782af",
   "metadata": {},
   "outputs": [
    {
     "name": "stdout",
     "output_type": "stream",
     "text": [
      "[2, 4, 3, 6, 9]\n"
     ]
    }
   ],
   "source": [
    "nums = [1, 2, 3]\n",
    "appendedlist = [2, 4]\n",
    "for i in nums:\n",
    "    a = i*3\n",
    "    appendedlist.append(a)\n",
    "print(appendedlist)"
   ]
  },
  {
   "cell_type": "markdown",
   "id": "f72166ab-ac21-477b-aaef-4f20750d38fd",
   "metadata": {},
   "source": [
    "### range()\n",
    "You might already be familiar with range() in Python. It's handy if you want to create a list of integers ranging between specific numbers without explicitly writing them out.\n",
    "Let's create a list of the odd numbers between one and five using this function:"
   ]
  },
  {
   "cell_type": "code",
   "execution_count": 10,
   "id": "d2b84d50-ac03-4909-b035-0a68bf4ec4d7",
   "metadata": {},
   "outputs": [
    {
     "name": "stdout",
     "output_type": "stream",
     "text": [
      "[1, 3, 5]\n"
     ]
    }
   ],
   "source": [
    "a = range(1, 6)\n",
    "b = []\n",
    "for i in a:\n",
    "    if i%2!=0:\n",
    "        b.append(i)\n",
    "print(b)"
   ]
  },
  {
   "cell_type": "markdown",
   "id": "cafba0e5-0453-4634-a01a-ceeca37ccefb",
   "metadata": {},
   "source": [
    "### slice()\n",
    "Although the slice() function and the traditional slice method give similar outputs, using slice() in your code can make it more readable.\n",
    "You can slice any mutable iterable using the slice method:"
   ]
  },
  {
   "cell_type": "code",
   "execution_count": 11,
   "id": "723a78d3-efbf-4961-aec7-6205bc5cf0ad",
   "metadata": {},
   "outputs": [
    {
     "name": "stdout",
     "output_type": "stream",
     "text": [
      "[1, 3, 4, 6]\n",
      "Pyth\n"
     ]
    }
   ],
   "source": [
    "b = [1, 3, 4, 6, 7, 10]\n",
    "st = \"Python tutorial\"\n",
    "sliceportion = slice(0, 4)\n",
    "print(b[sliceportion])\n",
    "print(st[sliceportion])"
   ]
  },
  {
   "cell_type": "markdown",
   "id": "1ed77850-af60-48c0-a121-7865bf08706d",
   "metadata": {},
   "source": [
    "### format()\n",
    "The format() method lets you manipulate your string output. Here's how it works:"
   ]
  },
  {
   "cell_type": "code",
   "execution_count": 12,
   "id": "3cbb39b6-218e-4dfe-b891-4bf176389d56",
   "metadata": {},
   "outputs": [
    {
     "name": "stdout",
     "output_type": "stream",
     "text": [
      "10 is the multiple of 5 and 2, but 14 is for 7 and 2\n"
     ]
    }
   ],
   "source": [
    "multiple = 5*2\n",
    "multiple2 = 7*2\n",
    "a =  \"{} is the multiple of 5 and 2, but {} is for 7 and 2\"\n",
    "a = a.format(multiple, multiple2)\n",
    "print(a)"
   ]
  },
  {
   "cell_type": "markdown",
   "id": "de40ac25-322a-4882-8750-08a68cda4b50",
   "metadata": {},
   "source": [
    "### strip()\n",
    "Python's strip() removes leading characters from a string. It repeatedly removes the first character from the string, if it matches any of the supplied characters.\n",
    "If you don't specify a character, strip removes all leading whitespace characters from the string.\n",
    "The example code below removes the letter P and the space before it from the string:"
   ]
  },
  {
   "cell_type": "code",
   "execution_count": 13,
   "id": "f235277e-c879-4d43-872b-14e2ad01e72b",
   "metadata": {},
   "outputs": [
    {
     "name": "stdout",
     "output_type": "stream",
     "text": [
      "ython tutorial\n"
     ]
    }
   ],
   "source": [
    "st = \" Python tutorial\"\n",
    "st = st.strip(\" P\")\n",
    "print(st)"
   ]
  },
  {
   "cell_type": "code",
   "execution_count": 14,
   "id": "a54d4f6c-ca3e-4ea9-9cd2-fd3f934a089d",
   "metadata": {},
   "outputs": [
    {
     "name": "stdout",
     "output_type": "stream",
     "text": [
      "Python tutorial\n"
     ]
    }
   ],
   "source": [
    "st1 = \" Python tutorial\"\n",
    "st1 = st1.strip(\" t\")\n",
    "print(st1)"
   ]
  },
  {
   "cell_type": "markdown",
   "id": "34b33114-9e1b-4e27-8292-4742ff2d09f9",
   "metadata": {},
   "source": [
    "### abs()\n",
    "Do you want to neutralize negative mathematical outputs? Then try out the abs() function. It can come in handy in computational programming or data science operations.\n",
    "See the example below for how it works:"
   ]
  },
  {
   "cell_type": "code",
   "execution_count": 15,
   "id": "117b4872-88ab-42c9-90c7-33b7603c9876",
   "metadata": {},
   "outputs": [
    {
     "name": "stdout",
     "output_type": "stream",
     "text": [
      "5\n"
     ]
    }
   ],
   "source": [
    "neg = 4 - 9\n",
    "pos = abs(neg)\n",
    "print(pos)"
   ]
  },
  {
   "cell_type": "markdown",
   "id": "2d34fdc5-1b5e-4630-8b8a-50fc36db967e",
   "metadata": {},
   "source": [
    "## upper() or lower()\n",
    "As the name implies, the upper() method converts string characters into their uppercase equivalent:"
   ]
  },
  {
   "cell_type": "code",
   "execution_count": 16,
   "id": "a3bfffe8-d3b4-4c69-b759-2738f381c986",
   "metadata": {},
   "outputs": [
    {
     "name": "stdout",
     "output_type": "stream",
     "text": [
      "PYTHON TUTORIAL\n",
      "python tutorial\n"
     ]
    }
   ],
   "source": [
    "y = \"Python tutorial\"\n",
    "y = y.upper()\n",
    "print(y)\n",
    "y = y.lower()\n",
    "print(y)"
   ]
  },
  {
   "cell_type": "markdown",
   "id": "b634165b-2cd3-4aeb-876d-5083e5b74e93",
   "metadata": {},
   "source": [
    "### sorted()\n",
    "The sorted() function works by making a list from an iterable and then arranging its values in descending or ascending order:"
   ]
  },
  {
   "cell_type": "code",
   "execution_count": 17,
   "id": "d7f7c337-4d56-49c2-a365-2fc17f6c1504",
   "metadata": {},
   "outputs": [
    {
     "name": "stdout",
     "output_type": "stream",
     "text": [
      "[9, 4, 3, 1]\n",
      "[3, 5, 8, 9]\n"
     ]
    }
   ],
   "source": [
    "f = {1, 4, 9, 3} # Try it on a set\n",
    "sort = {\"G\":8, \"A\":5, \"B\":9, \"F\":3} # Try it on a dictionary\n",
    "print(sorted(f, reverse=True)) # Descending\n",
    "print(sorted(sort.values())) # Ascending (default)"
   ]
  },
  {
   "cell_type": "markdown",
   "id": "59928c1e-1a68-4d9c-9735-ff4e06633802",
   "metadata": {},
   "source": [
    "### join()\n",
    "The join() function lets you merge string items in a list.\n",
    "You only need to specify a delimiter and the target list to use it:"
   ]
  },
  {
   "cell_type": "code",
   "execution_count": 18,
   "id": "287902ca-bb75-4426-b10a-d8dc7255e9c5",
   "metadata": {},
   "outputs": [
    {
     "name": "stdout",
     "output_type": "stream",
     "text": [
      "Python tutorial on MUO\n"
     ]
    }
   ],
   "source": [
    "a = [\"Python\", \"tutorial\", \"on\", \"MUO\"]\n",
    "a = \" \".join(a)\n",
    "print(a)"
   ]
  },
  {
   "cell_type": "markdown",
   "id": "6403f391-6113-4f8f-9edf-eaeae9f34b2f",
   "metadata": {},
   "source": [
    "### replace()\n",
    "Python's replace() method lets you replace some parts of a string with another character. It's often handy in data science, especially during data cleaning.\n",
    "The replace() method accepts two parameters: the replaced character and the one you'll like to replace it with."
   ]
  },
  {
   "cell_type": "code",
   "execution_count": 19,
   "id": "c4a9c1ec-b97d-468a-9931-5b5eef79510e",
   "metadata": {},
   "outputs": [
    {
     "name": "stdout",
     "output_type": "stream",
     "text": [
      "Cart name\n",
      "First name\n",
      "Last name\n"
     ]
    }
   ],
   "source": [
    "columns = [\"Cart_name\", \"First_name\", \"Last_name\"]\n",
    "for i in columns:\n",
    "    i = i.replace(\"_\", \" \")\n",
    "    print(i)"
   ]
  },
  {
   "cell_type": "markdown",
   "id": "71b73f81-f536-4ee6-b4c5-59b53297020f",
   "metadata": {},
   "source": [
    "### .append() and .extend() methods to add elements to a list.\n",
    "The .append() method increases the length of the list by one, so if you want to add only one element to the list, you can use this method.\n",
    "The .extend() method increases the length of the list by the number of elements that are provided to the method, so if you want to add multiple elements to the list, you can use this method."
   ]
  },
  {
   "cell_type": "code",
   "execution_count": 20,
   "id": "6a6b0d31-8673-41fc-9d7c-0584b3b9d93c",
   "metadata": {},
   "outputs": [
    {
     "name": "stdout",
     "output_type": "stream",
     "text": [
      "['Apple Inc', 'Coca-Cola', 'Walmart', 'Amazon.com']\n",
      "['Apple Inc', 'Coca-Cola', 'Walmart', 'Amazon.com', 'DowDuPont', 'Alphabet Inc']\n"
     ]
    }
   ],
   "source": [
    "names = ['Apple Inc', 'Coca-Cola', 'Walmart']\n",
    "# Append a name to the list names\n",
    "names.append('Amazon.com')\n",
    "print(names)\n",
    "\n",
    "# Extend list names\n",
    "more_elements = ['DowDuPont', 'Alphabet Inc']\n",
    "names.extend(more_elements)\n",
    "print(names)"
   ]
  },
  {
   "cell_type": "markdown",
   "id": "b333743b-23a5-42f4-aa70-a79c0a3dcd55",
   "metadata": {},
   "source": [
    "### .index(), \n",
    "which returns the index of the element specified."
   ]
  },
  {
   "cell_type": "code",
   "execution_count": 21,
   "id": "862ac36a-43ff-4c6d-b1bd-a2fdf8ff2410",
   "metadata": {},
   "outputs": [
    {
     "name": "stdout",
     "output_type": "stream",
     "text": [
      "The largest stock price is associated with Amazon.com and is $1705.54.\n"
     ]
    }
   ],
   "source": [
    "prices = [159.54, 37.13, 71.17, 1705.54, 66.43, 1132.34]\n",
    "max_price = max(prices)\n",
    "\n",
    "# Identify index of max price\n",
    "max_index = prices.index(max_price)\n",
    "\n",
    "# Identify the name of the company with max price\n",
    "max_stock_name = names[max_index]\n",
    "\n",
    "# Fill in the blanks \n",
    "print('The largest stock price is associated with ' + max_stock_name + ' and is $' + str(max_price) + '.')"
   ]
  },
  {
   "cell_type": "code",
   "execution_count": 22,
   "id": "8882c583-41de-44d8-8c02-99eb845bf2e5",
   "metadata": {},
   "outputs": [
    {
     "name": "stdout",
     "output_type": "stream",
     "text": [
      "[170.12  93.29  55.28 145.3  171.81  59.5  100.5 ]\n",
      "[ 9.2   5.31  2.41  5.91 15.42  2.51  6.79]\n",
      "[170.12  93.29  55.28]\n",
      "[[170.12  93.29  55.28 145.3  171.81  59.5  100.5 ]\n",
      " [  9.2    5.31   2.41   5.91  15.42   2.51   6.79]]\n",
      "(2, 7)\n",
      "14\n",
      "\n",
      "le même tableau transposé\n",
      "[[170.12   9.2 ]\n",
      " [ 93.29   5.31]\n",
      " [ 55.28   2.41]\n",
      " [145.3    5.91]\n",
      " [171.81  15.42]\n",
      " [ 59.5    2.51]\n",
      " [100.5    6.79]]\n",
      "(7, 2)\n",
      "14\n",
      "\n",
      " Quelques méthodes d extraction \n",
      "[170.12  93.29  55.28 145.3  171.81  59.5  100.5 ]\n",
      "[ 9.2   5.31  2.41  5.91 15.42  2.51  6.79]\n",
      "[170.12   9.2 ]\n",
      "\n",
      " Conditional slicing\n",
      "[ True False False  True  True False False]\n",
      "[170.12 145.3  171.81]\n"
     ]
    }
   ],
   "source": [
    "# Import numpy as np\n",
    "import numpy as np\n",
    "\n",
    "# Lists\n",
    "prices = [170.12, 93.29, 55.28, 145.30, 171.81, 59.50, 100.50]\n",
    "earnings = [9.2, 5.31, 2.41, 5.91, 15.42, 2.51, 6.79]\n",
    "\n",
    "# NumPy arrays\n",
    "prices_array = np.array(prices)\n",
    "earnings_array = np.array(earnings)\n",
    "\n",
    "# Print the arrays\n",
    "print(prices_array)\n",
    "print(earnings_array)\n",
    "\n",
    "# Subset the first three elements\n",
    "prices_subset_1 = prices_array[0:3]\n",
    "print(prices_subset_1)\n",
    "\n",
    "# Create a 2D array of prices and earnings\n",
    "stock_array = np.array([prices, earnings])\n",
    "print(stock_array)\n",
    "\n",
    "# Print the shape of stock_array\n",
    "print(stock_array.shape)\n",
    "\n",
    "# Print the size of stock_array\n",
    "print(stock_array.size)\n",
    "\n",
    "# Transpose stock_array\n",
    "print('\\nle même tableau transposé')\n",
    "stock_array_transposed = np.transpose(stock_array)\n",
    "print(stock_array_transposed)\n",
    "\n",
    "# Print the shape of stock_array\n",
    "print(stock_array_transposed.shape)\n",
    "\n",
    "# Print the size of stock_array\n",
    "print(stock_array_transposed.size)\n",
    "\n",
    "print('\\n Quelques méthodes d extraction ')\n",
    "\n",
    "# Subset prices from stock_array_transposed\n",
    "prices = stock_array_transposed[:, 0]\n",
    "print(prices)\n",
    "\n",
    "# Subset earnings from stock_array_transposed\n",
    "earnings = stock_array_transposed[:,1]\n",
    "print(earnings)\n",
    "\n",
    "# Subset the price and earning for first company\n",
    "company_1 = stock_array_transposed[0,:]\n",
    "print(company_1)\n",
    "\n",
    "print('\\n Conditional slicing')\n",
    "# Find the mean\n",
    "price_mean = np.mean(prices)\n",
    "\n",
    "# Create boolean array\n",
    "boolean_array = (prices>price_mean)\n",
    "print(boolean_array)\n",
    "\n",
    "# Select prices that are greater than average\n",
    "above_avg = prices[boolean_array]\n",
    "print(above_avg)"
   ]
  },
  {
   "cell_type": "code",
   "execution_count": 23,
   "id": "64344e29-372d-47eb-af30-9be8c815d00b",
   "metadata": {},
   "outputs": [
    {
     "name": "stdout",
     "output_type": "stream",
     "text": [
      "[1 2 3 4 5 6 7]\n",
      "[1 3 5 7]\n"
     ]
    }
   ],
   "source": [
    "# Import numpy as np\n",
    "import numpy as np\n",
    "\n",
    "# Create and print company IDs\n",
    "company_ids = np.arange(1, 8, 1)\n",
    "print(company_ids)\n",
    "\n",
    "# Use array slicing to select specific company IDs\n",
    "company_ids_odd = np.arange(1, 8, 2)\n",
    "print(company_ids_odd)"
   ]
  },
  {
   "cell_type": "code",
   "execution_count": 24,
   "id": "cd10f967-77eb-4469-ba56-1a4191e0070d",
   "metadata": {},
   "outputs": [
    {
     "name": "stdout",
     "output_type": "stream",
     "text": [
      "['Apple Inc' 'Accenture Plc' 'Cisco Systems Inc' 'Facebook Inc'\n",
      " 'Alphabet Class C' 'Alphabet Class A' 'International Business Machines'\n",
      " 'Intel Corp' 'Mastercard Inc' 'Microsoft Corp' 'Oracle Corp'\n",
      " 'Paypal Holdings' 'Qualcomm Inc' 'Texas Instruments' 'Visa Inc']\n",
      "[18.49130435 24.58544839 16.76497696 34.51637765 34.09708738 34.6196853\n",
      " 11.08345534 14.11320755 34.78654292 24.40532544 19.20392157 54.67857143\n",
      " 17.67989418 24.28325123 31.68678161]\n",
      "\n",
      " mean & std\n",
      "26.33305542\n",
      "10.866146792722402\n"
     ]
    },
    {
     "data": {
      "image/png": "[encoded data removed]",
      "text/plain": [
       "<Figure size 432x288 with 1 Axes>"
      ]
     },
     "metadata": {
      "needs_background": "light"
     },
     "output_type": "display_data"
    }
   ],
   "source": [
    "# Import numpy as np\n",
    "import numpy as np\n",
    "\n",
    "# Lists\n",
    "names = ['Apple Inc', 'Abbvie Inc', 'Abbott Laboratories', 'Accenture Plc',\n",
    "'Allergan Plc', 'American International Group', 'Allstate Corp',\n",
    "'Amgen', 'Amazon.Com Inc.', 'American Express Company',\n",
    "'Boeing Company', 'Bank of America Corp', 'Biogen Inc',\n",
    "'Bank of New York Mellon Corp', 'Blackrock',\n",
    "'Bristol-Myers Squibb Company', 'Berkshire Hath Hld B',\n",
    "'Citigroup Inc', 'Caterpillar Inc', 'Celgene Corp',\n",
    "'Charter Communicatio', 'Colgate-Palmolive Company',\n",
    "'Comcast Corp A', 'Capital One Financial Corp', 'Conocophillips',\n",
    "'Costco Wholesale', 'Cisco Systems Inc', 'CVS Corp',\n",
    "'Chevron Corp', 'Danaher Corp', 'Walt Disney Company',\n",
    "'Duke Energy Corp', 'Dowdupont Inc.', 'Emerson Electric Company',\n",
    "'Exelon Corp', 'Ford Motor Company', 'Facebook Inc', 'Fedex Corp',\n",
    "'21st Centry Fox Class B', '21st Centry Fox Class A',\n",
    "'General Dynamics Corp', 'General Electric Company',\n",
    "'Gilead Sciences Inc', 'General Motors Company',\n",
    "'Alphabet Class C', 'Alphabet Class A', 'Goldman Sachs Group',\n",
    "'Halliburton Company', 'Home Depot', 'Honeywell International Inc',\n",
    "'International Business Machines', 'Intel Corp',\n",
    "'Johnson & Johnson', 'JP Morgan Chase & Co', 'Kraft Heinz Co',\n",
    "'Kinder Morgan', 'Coca-Cola Company', 'Eli Lilly and Company',\n",
    "'Lockheed Martin Corp', \"Lowe's Companies\", 'Mastercard Inc',\n",
    "\"McDonald's Corp\", 'Mondelez Intl Cmn A', 'Medtronic Inc',\n",
    "'Metlife Inc', '3M Company', 'Altria Group', 'Monsanto Company',\n",
    "'Merck & Company', 'Morgan Stanley', 'Microsoft Corp',\n",
    "'Nextera Energy', 'Nike Inc', 'Oracle Corp',\n",
    "'Occidental Petroleum Corp', 'Priceline Group', 'Pepsico Inc',\n",
    "'Pfizer Inc', 'Procter & Gamble Company',\n",
    "'Philip Morris International Inc', 'Paypal Holdings',\n",
    "'Qualcomm Inc', 'Raytheon Company', 'Starbucks Corp',\n",
    "'Schlumberger N.V.', 'Southern Company', 'Simon Property Group',\n",
    "'AT&T Inc', 'Target Corp', 'Time Warner Inc', 'Texas Instruments',\n",
    "'Unitedhealth Group Inc', 'Union Pacific Corp',\n",
    "'United Parcel Service', 'U.S. Bancorp',\n",
    "'United Technologies Corp', 'Visa Inc',\n",
    "'Verizon Communications Inc', 'Walgreens Boots Alliance',\n",
    "'Wells Fargo & Company', 'Wal-Mart Stores', 'Exxon Mobil Corp']\n",
    "sectors = ['Information Technology', 'Health Care', 'Health Care','Information Technology', 'Health Care', 'Financials','Financials', 'Health Care', 'Consumer Discretionary','Financials', 'Industrials', 'Financials', 'Health Care','Financials', 'Financials', 'Health Care', 'Financials','Financials', 'Industrials', 'Health Care','Consumer Discretionary', 'Consumer Staples','Consumer Discretionary', 'Financials', 'Energy','Consumer Staples', 'Information Technology', 'Consumer Staples','Energy', 'Health Care', 'Consumer Discretionary', 'Utilities','Materials', 'Industrials', 'Utilities', 'Consumer Discretionary','Information Technology', 'Industrials', 'Consumer Discretionary','Consumer Discretionary', 'Industrials', 'Industrials','Health Care', 'Consumer Discretionary', 'Information Technology','Information Technology', 'Financials', 'Energy','Consumer Discretionary', 'Industrials', 'Information Technology','Information Technology', 'Health Care', 'Financials','Consumer Staples', 'Energy', 'Consumer Staples', 'Health Care','Industrials', 'Consumer Discretionary', 'Information Technology','Consumer Discretionary', 'Consumer Staples', 'Health Care','Financials', 'Industrials', 'Consumer Staples', 'Materials','Health Care', 'Financials', 'Information Technology', 'Utilities','Consumer Discretionary', 'Information Technology', 'Energy','Consumer Discretionary', 'Consumer Staples', 'Health Care','Consumer Staples', 'Consumer Staples', 'Information Technology','Information Technology', 'Industrials', 'Consumer Discretionary','Energy', 'Utilities', 'Real Estate', 'Telecommunications','Consumer Discretionary', 'Consumer Discretionary','Information Technology', 'Health Care', 'Industrials','Industrials', 'Financials', 'Industrials','Information Technology', 'Telecommunications', 'Consumer Staples','Financials', 'Consumer Staples', 'Energy']\n",
    "pe = [18.49130435,   17.56873823,   22.93775934,   24.58544839,\n",
    "11.14202335,   23.70517928,   14.8011782 ,   13.42845787,\n",
    "285.99492386,   17.99233716,   27.18358974,   15.25714286,\n",
    "14.44742937,   15.19596542,   21.99767981,   20.43243243,\n",
    "28.81875994,   13.8477842 ,   24.75135135,   16.075,\n",
    "215.0310559 ,   25.14285714,   17.88613861,   11.64379947,\n",
    "2494.5,   29.41924399,   16.76497696,   12.29071804,\n",
    "32.16806723,   24.02313625,   18.07368421,   19.91235955,\n",
    "19.43169399,   23.31007752,   16.66129032,    7.20833333,\n",
    "34.51637765,   18.2829555 ,   15.84375   ,   16.21875   ,\n",
    "19.73187686,   14.44354839,    7.47703549,    7.22778675,\n",
    "34.09708738,   34.6196853 ,   12.3984375 ,   56.94520548,\n",
    "24.44396552,   21.30071942,   11.08345534,   14.11320755,\n",
    "19.40336134,   14.20461095,   22.63764045,   26.21538462,\n",
    "24.12698413,   20.28606357,   24.60141509,   18.76267281,\n",
    "34.78654292,   26.0953125 ,   20.72682927,   16.95522388,\n",
    "9.97115385,   25.97653631,   21.04746835,   21.37251356,\n",
    "13.81491003,   13.5900277 ,   24.40532544,   23.34332834,\n",
    "25.30212766,   19.20392157,  194.77142857,   23.66997985,\n",
    "22.55859375,   14.152,   22.19346734,   23.01781737,\n",
    "54.67857143,   17.67989418,   24.36772487,   27.45410628,\n",
    "47.69767442,   18.58909091,   26.32231405,   11.80546075,\n",
    "11.71805274,   14.62376238,   24.28325123,   21.84895833,\n",
    "20.4204947 ,   18.92976589,   15.39465875,   17.68126888,\n",
    "31.68678161,   12.22666667,   13.7745098 ,   13.04830918,\n",
    "22.03669725,   22.55898876]\n",
    "# NumPy arrays\n",
    "names = np.array(names)\n",
    "sectors = np.array(sectors)\n",
    "pe = np.array(pe)\n",
    "\n",
    "tableau = np.array([names,sectors,pe])\n",
    "# print(tableau)\n",
    "\n",
    "# Create boolean array\n",
    "boolean_array = (sectors == 'Information Technology')\n",
    "# print(boolean_array)\n",
    "\n",
    "# Subset sector-specific data\n",
    "it_names = names[boolean_array]\n",
    "it_pe = pe[boolean_array]\n",
    "\n",
    "# Display sector names\n",
    "print(it_names)\n",
    "print(it_pe)\n",
    "\n",
    "# Calculate mean and standard deviation\n",
    "it_pe_mean = np.mean(it_pe)\n",
    "it_pe_std = np.std(it_pe)\n",
    "\n",
    "print('\\n mean & std')\n",
    "print(it_pe_mean)\n",
    "print(it_pe_std)\n",
    "\n",
    "boolean_array_cs = (sectors == 'Consumer Staples')\n",
    "cs_pe = pe[boolean_array_cs]\n",
    "\n",
    "import matplotlib.pyplot as plt\n",
    "\n",
    "# Make a scatterplot\n",
    "it_id = np.arange(0,15)\n",
    "cs_id = np.arange(0,12)\n",
    "plt.scatter(it_id, it_pe, color='red', label='IT')\n",
    "plt.scatter(cs_id, cs_pe, color='green', label='CS')\n",
    "\n",
    "# Add legend\n",
    "plt.legend()\n",
    "\n",
    "# Add labels\n",
    "plt.xlabel('Company ID')\n",
    "plt.ylabel('P/E Ratio')\n",
    "plt.show()\n"
   ]
  },
  {
   "cell_type": "markdown",
   "id": "2daa873c-1302-4602-bef9-f11bf104a839",
   "metadata": {},
   "source": [
    "## Working with tuples"
   ]
  },
  {
   "cell_type": "code",
   "execution_count": 25,
   "id": "6ead8d4d-aec5-4df9-97e7-258664e74096",
   "metadata": {},
   "outputs": [
    {
     "name": "stdout",
     "output_type": "stream",
     "text": [
      "Rank 0: JADA and JOSIAH\n",
      "Rank 1: Emily and ETHAN\n",
      "Rank 2: Ava and David\n",
      "Rank 3: SERENITY and Jayden\n",
      "Rank 4: Claire and MASON\n",
      "Rank 5: SOPHIA and RYAN\n",
      "Rank 6: Sarah and CHRISTIAN\n",
      "Rank 7: ASHLEY and ISAIAH\n",
      "Rank 8: CHAYA and JAYDEN\n",
      "Rank 9: ABIGAIL and Michael\n"
     ]
    }
   ],
   "source": [
    "girl_names = ('JADA', 'Emily', 'Ava', 'SERENITY', 'Claire', 'SOPHIA', 'Sarah', 'ASHLEY', 'CHAYA', 'ABIGAIL')\n",
    "boy_names = ('JOSIAH', 'ETHAN', 'David', 'Jayden', 'MASON', 'RYAN', 'CHRISTIAN', 'ISAIAH', 'JAYDEN', 'Michael')\n",
    "\n",
    "# Pair up the girl and boy names: pairs\n",
    "pairs = zip(girl_names, boy_names)\n",
    "\n",
    "# Iterate over pairs\n",
    "for idx, pair in enumerate(pairs):\n",
    "    # Unpack pair: girl_name, boy_name\n",
    "    girl_name, boy_name = pair\n",
    "    # Print the rank and names associated with each rank\n",
    "    print('Rank {}: {} and {}'.format(idx, girl_name, boy_name))"
   ]
  },
  {
   "cell_type": "markdown",
   "id": "1c07f061-85e9-4d52-9a6f-b7f1e19a698b",
   "metadata": {},
   "source": [
    "## Working with set"
   ]
  },
  {
   "cell_type": "code",
   "execution_count": 26,
   "id": "aa119347-5c31-4892-99b9-ff323c237de6",
   "metadata": {},
   "outputs": [
    {
     "name": "stdout",
     "output_type": "stream",
     "text": [
      "18\n",
      "10\n"
     ]
    }
   ],
   "source": [
    "babies_2011 = set(['Cody', 'Angely', 'James', 'Chavy', 'Juliet', 'Ben', 'Marlon', 'Iris', 'Sophia', 'Enrique', 'Yehudis', 'Arturo', 'Gabriel'])\n",
    "babies_2014 = set(['Cody', 'Angely', 'James', 'Chavy', 'Juliet', 'Ben', 'Marlon', 'Iris', 'Sophia', 'Enrique', 'Katelyn', 'Hannah', 'Brynn', 'Alec', 'Syeda'])\n",
    "\n",
    "# Find the union: all_names\n",
    "all_names = babies_2011.union(babies_2014)\n",
    "\n",
    "# Print the count of names in all_names\n",
    "print(len(all_names))\n",
    "\n",
    "# Find the intersection: overlapping_names\n",
    "overlapping_names = babies_2011.intersection(babies_2014)\n",
    "\n",
    "# Print the count of names in overlapping_names\n",
    "print(len(overlapping_names))\n"
   ]
  },
  {
   "cell_type": "markdown",
   "id": "64df8048-99ee-4a7b-b28f-0ea5eadb648f",
   "metadata": {},
   "source": [
    "## Working with dictionnaries"
   ]
  },
  {
   "cell_type": "code",
   "execution_count": 27,
   "id": "f1ca73e6-886f-4311-98fb-a66efda7519b",
   "metadata": {},
   "outputs": [
    {
     "name": "stdout",
     "output_type": "stream",
     "text": [
      "CHARLOTTE\n",
      "SARA\n",
      "MIA\n",
      "EMILY\n",
      "ELLA\n",
      "MIRIAM\n",
      "CHANA\n",
      "AVA\n",
      "CHAYA\n",
      "RACHEL\n",
      "\n",
      "----------------------\n",
      "CHAYA\n",
      "<class 'str'>\n",
      "Not Found\n",
      "\n",
      "----------------------\n",
      "dict_keys([2012, 2013, 2014])\n",
      "dict_keys([1, 2, 3, 4, 5, 6, 7])\n",
      "2012 Unknown\n",
      "2013 Michael\n",
      "2014 Michael\n",
      "\n",
      "----------------------\n",
      "2012 Aiden\n",
      "2013 James\n",
      "2014 Jacob\n",
      "2011 Matthew\n",
      "\n",
      "----------------------\n",
      "1 David\n",
      "2 Joseph\n",
      "3 Michael\n",
      "4 Moshe\n",
      "5 Daniel\n",
      "6 Benjamin\n",
      "7 James\n",
      "\n",
      "----------------------\n",
      "Found Rank 1 in 2011\n"
     ]
    }
   ],
   "source": [
    "female_baby_names_2012 = {1: 'EMMA', 2: 'LEAH', 3: 'SARAH', 4: 'SOPHIA', 5: 'ESTHER', 6: 'RACHEL', 7: 'CHAYA', 8: 'AVA', 9: 'CHANA', 10: 'MIRIAM', 11: 'ELLA', 12: 'EMILY', 13: 'MIA', 14: 'SARA', 15: 'CHARLOTTE'}\n",
    "\n",
    "# Create an empty dictionary: names_by_rank\n",
    "names_by_rank = {}\n",
    "\n",
    "# Loop over the girl names\n",
    "for rank, name in female_baby_names_2012.items():\n",
    "    # Add each name to the names_by_rank dictionary using rank as the key\n",
    "    names_by_rank[rank] = name\n",
    "    \n",
    "# Sort the names_by_rank dict by rank in descending order and slice the first 10 items\n",
    "for rank in sorted(names_by_rank, reverse=True)[:10]:\n",
    "    # Print each item\n",
    "    print(names_by_rank[rank])\n",
    "    \n",
    "print('\\n----------------------')    \n",
    "\n",
    "# Safely print rank 7 from the names dictionary\n",
    "print(female_baby_names_2012.get(7))\n",
    "\n",
    "# Safely print the type of rank 100 from the names dictionary\n",
    "print(type(female_baby_names_2012.get(10)))\n",
    "\n",
    "# Safely print rank 105 from the names dictionary or 'Not Found'\n",
    "print(female_baby_names_2012.get(105, 'Not Found'))  \n",
    "\n",
    "print('\\n----------------------') \n",
    "\n",
    "boy_names = {2012: {}, 2013: {1: 'David', 2: 'Joseph', 3: 'Michael', 4: 'Moshe', 5: 'Daniel', 6: 'Benjamin', 7: 'James'}, 2014: {1: 'Joseph', 2: 'David', 3: 'Michael', 4: 'Moshe', 5: 'Jacob'}}\n",
    "\n",
    "# Print a list of keys from the boy_names dictionary\n",
    "print(boy_names.keys())\n",
    "\n",
    "# Print a list of keys from the boy_names dictionary for the year 2013\n",
    "print(boy_names[2013].keys())\n",
    "\n",
    "# Loop over the dictionary\n",
    "for year in boy_names:\n",
    "    # Safely print the year and the third ranked name or 'Unknown'\n",
    "    print(year, boy_names[year].get(3, 'Unknown'))\n",
    "    \n",
    "print('\\n----------------------')    \n",
    "    \n",
    "boy_names_2011 = {1: 'Michael', 2: 'Joseph', 3: 'Jacob', 4: 'David', 5: 'Benjamin', 6: 'Moshe', 7: 'Daniel', 8: 'Alexander', 9: 'Matthew'} \n",
    "\n",
    "# Assign the names_2011 dictionary as the value to the 2011 key of boy_names\n",
    "boy_names[2011] = boy_names_2011\n",
    "\n",
    "# Update the 2012 key in the boy_names dictionary\n",
    "boy_names[2012].update([(1, 'Casey'), (2, 'Aiden')])\n",
    "\n",
    "# Loop over the years in the boy_names dictionary \n",
    "for year in boy_names:\n",
    "    # Sort the data for each year by descending rank and get the lowest one\n",
    "    lowest_ranked =  sorted(boy_names[year], reverse=True)[0]\n",
    "    # Safely print the year and the least popular name or 'Not Available'\n",
    "    print(year, boy_names[year].get(lowest_ranked,'Not Available'))\n",
    "    \n",
    "print('\\n----------------------')    \n",
    "    \n",
    "# Iterate over the 2013 nested dictionary\n",
    "for rank, name in boy_names[2013].items():\n",
    "    # Print rank and name\n",
    "    print(rank, name)   \n",
    "\n",
    "print('\\n----------------------') \n",
    "\n",
    "# Check to see if rank 1 is in 2011\n",
    "if 1 in boy_names[2011]:\n",
    "    # Print 'Found Rank 1 in 2011' if found\n",
    "    print('Found Rank 1 in 2011')\n",
    "else:\n",
    "    # Print 'Rank 1 missing from 2011' if not found\n",
    "    print('Rank 1 missing from 2011')    "
   ]
  },
  {
   "cell_type": "code",
   "execution_count": 28,
   "id": "425c8952-60dc-4e6e-840e-661cde2538e8",
   "metadata": {},
   "outputs": [
    {
     "name": "stdout",
     "output_type": "stream",
     "text": [
      "['BRITH_YEAR', ' GENDER', ' ETHNICTY', ' NAME', ' COUNT', ' RANK']\n",
      "['2011', ' FEMALE', ' HISPANIC', ' GERALDINE', ' 13', ' 75']\n",
      "['2011', ' FEMALE', ' HISPANIC', ' GIA', ' 21', ' 67']\n",
      "['2011', ' FEMALE', ' WHITE NON HISPANIC', ' ADELE', ' 22', ' 69']\n",
      "['2011', ' MALE', ' ASIAN AND PACIFIC ISLANDER', ' JACK', ' 21', ' 45']\n",
      "['2011', ' MALE', ' BLACK NON HISPANIC', ' CARMELO', ' 13', ' 61']\n",
      "['2011', ' MALE', ' HISPANIC', ' ANGEL', ' 253', ' 5']\n",
      "['2011', ' FEMALE', ' ASIAN AND PACIFIC ISLANDER', ' CINDY', ' 14', ' 34']\n",
      "['2011', ' FEMALE', ' BLACK NON HISPANIC', ' BROOKE', ' 12', ' 43']\n",
      "['2011', ' FEMALE', ' HISPANIC', ' FAITH', ' 25', ' 63']\n",
      "['2011', ' MALE', ' WHITE NON HISPANIC', ' EVAN', ' 60', ' 54']\n",
      "['2011', ' MALE', ' ASIAN AND PACIFIC ISLANDER', ' ZAIN', ' 12', ' 54']\n"
     ]
    },
    {
     "ename": "NameError",
     "evalue": "name 'baby_names2' is not defined",
     "output_type": "error",
     "traceback": [
      "\u001b[1;31m---------------------------------------------------------------------------\u001b[0m",
      "\u001b[1;31mNameError\u001b[0m                                 Traceback (most recent call last)",
      "\u001b[1;32m~\\AppData\\Local\\Temp/ipykernel_5968/344989612.py\u001b[0m in \u001b[0;36m<module>\u001b[1;34m\u001b[0m\n\u001b[0;32m     13\u001b[0m \u001b[1;33m\u001b[0m\u001b[0m\n\u001b[0;32m     14\u001b[0m \u001b[1;31m# Print the dictionary keys\u001b[0m\u001b[1;33m\u001b[0m\u001b[1;33m\u001b[0m\u001b[1;33m\u001b[0m\u001b[0m\n\u001b[1;32m---> 15\u001b[1;33m \u001b[0mprint\u001b[0m\u001b[1;33m(\u001b[0m\u001b[0mbaby_names2\u001b[0m\u001b[1;33m.\u001b[0m\u001b[0mkeys\u001b[0m\u001b[1;33m(\u001b[0m\u001b[1;33m)\u001b[0m\u001b[1;33m)\u001b[0m\u001b[1;33m\u001b[0m\u001b[1;33m\u001b[0m\u001b[0m\n\u001b[0m",
      "\u001b[1;31mNameError\u001b[0m: name 'baby_names2' is not defined"
     ]
    }
   ],
   "source": [
    "# Import the python CSV module\n",
    "import csv\n",
    "\n",
    "# Create a python file object in read mode for the baby_names.csv file: csvfile\n",
    "csvfile = open('baby_names2.csv', 'r')\n",
    "\n",
    "# Loop over a csv reader on the file object\n",
    "for row in csv.reader(csvfile):\n",
    "    # Print each row \n",
    "    print(row)\n",
    "    # Add the rank and name to the dictionary\n",
    "    #baby_names2[row[5]] = row[3]\n",
    "\n",
    "# Print the dictionary keys\n",
    "print(baby_names2.keys())"
   ]
  },
  {
   "cell_type": "markdown",
   "id": "b5f6761d-d410-4901-b60d-877e04f3eb47",
   "metadata": {},
   "source": [
    "## namedtuples"
   ]
  },
  {
   "cell_type": "code",
   "execution_count": 29,
   "id": "878e05a4-ac58-4428-9175-61c06c822e60",
   "metadata": {},
   "outputs": [
    {
     "name": "stdout",
     "output_type": "stream",
     "text": [
      "[('01/01/2015', 'Austin-Forest Park', '587'), ('01/02/2015', 'Austin-Forest Park', '1386'), ('01/03/2015', 'Austin-Forest Park', '785'), ('01/04/2015', 'Austin-Forest Park', '625'), ('01/05/2015', 'Austin-Forest Park', '1752'), ('01/06/2015', 'Austin-Forest Park', '1777'), ('01/07/2015', 'Austin-Forest Park', '1269'), ('01/08/2015', 'Austin-Forest Park', '1435'), ('01/09/2015', 'Austin-Forest Park', '1631'), ('01/10/2015', 'Austin-Forest Park', '771'), ('01/11/2015', 'Austin-Forest Park', '588'), ('01/12/2015', 'Austin-Forest Park', '2065'), ('01/13/2015', 'Austin-Forest Park', '2108'), ('01/14/2015', 'Austin-Forest Park', '2012'), ('01/15/2015', 'Austin-Forest Park', '2069'), ('01/16/2015', 'Austin-Forest Park', '2003'), ('01/17/2015', 'Austin-Forest Park', '953'), ('01/18/2015', 'Austin-Forest Park', '706'), ('01/19/2015', 'Austin-Forest Park', '1216'), ('01/20/2015', 'Austin-Forest Park', '2115'), ('01/21/2015', 'Austin-Forest Park', '2132'), ('01/22/2015', 'Austin-Forest Park', '2185'), ('01/23/2015', 'Austin-Forest Park', '2072'), ('01/24/2015', 'Austin-Forest Park', '854')]\n",
      "\n",
      "----------------------\n",
      "[DateDetails(date='01/01/2015', stop='Austin-Forest Park', riders='587'), DateDetails(date='01/02/2015', stop='Austin-Forest Park', riders='1386'), DateDetails(date='01/03/2015', stop='Austin-Forest Park', riders='785')]\n",
      "\n",
      "----------------------\n",
      "Austin-Forest Park\n",
      "01/01/2015\n",
      "587\n",
      "Austin-Forest Park\n",
      "01/02/2015\n",
      "1386\n",
      "Austin-Forest Park\n",
      "01/03/2015\n",
      "785\n"
     ]
    }
   ],
   "source": [
    "entries =[('01/01/2015', 'Austin-Forest Park', '587'),\n",
    " ('01/02/2015', 'Austin-Forest Park', '1386'),\n",
    " ('01/03/2015', 'Austin-Forest Park', '785'),\n",
    " ('01/04/2015', 'Austin-Forest Park', '625'),\n",
    " ('01/05/2015', 'Austin-Forest Park', '1752'),\n",
    " ('01/06/2015', 'Austin-Forest Park', '1777'),\n",
    " ('01/07/2015', 'Austin-Forest Park', '1269'),\n",
    " ('01/08/2015', 'Austin-Forest Park', '1435'),\n",
    " ('01/09/2015', 'Austin-Forest Park', '1631'),\n",
    " ('01/10/2015', 'Austin-Forest Park', '771'),\n",
    " ('01/11/2015', 'Austin-Forest Park', '588'),\n",
    " ('01/12/2015', 'Austin-Forest Park', '2065'),\n",
    " ('01/13/2015', 'Austin-Forest Park', '2108'),\n",
    " ('01/14/2015', 'Austin-Forest Park', '2012'),\n",
    " ('01/15/2015', 'Austin-Forest Park', '2069'),\n",
    " ('01/16/2015', 'Austin-Forest Park', '2003'),\n",
    " ('01/17/2015', 'Austin-Forest Park', '953'),\n",
    " ('01/18/2015', 'Austin-Forest Park', '706'),\n",
    " ('01/19/2015', 'Austin-Forest Park', '1216'),\n",
    " ('01/20/2015', 'Austin-Forest Park', '2115'),\n",
    " ('01/21/2015', 'Austin-Forest Park', '2132'),\n",
    " ('01/22/2015', 'Austin-Forest Park', '2185'),\n",
    " ('01/23/2015', 'Austin-Forest Park', '2072'),\n",
    " ('01/24/2015', 'Austin-Forest Park', '854')]\n",
    "print(entries)\n",
    "\n",
    "print('\\n----------------------')  \n",
    "\n",
    "# Import namedtuple from collections\n",
    "from collections import namedtuple\n",
    "\n",
    "# Create the namedtuple: DateDetails\n",
    "DateDetails = namedtuple('DateDetails', ['date', 'stop', 'riders'])\n",
    "\n",
    "# Create the empty list: labeled_entries\n",
    "labeled_entries = []\n",
    "\n",
    "# Iterate over the entries list\n",
    "for date, stop, riders in entries:\n",
    "    # Append a new DateDetails namedtuple instance for each entry to labeled_entries\n",
    "    labeled_entries.append(DateDetails(date, stop, riders))\n",
    "    \n",
    "# Print the first 5 items in labeled_entries\n",
    "print(labeled_entries[:3])\n",
    "\n",
    "print('\\n----------------------') \n",
    "\n",
    "# Iterate over the first twenty items in labeled_entries\n",
    "for item in labeled_entries[:3]:\n",
    "    # Print each item's stop\n",
    "    print(item.stop)\n",
    "\n",
    "    # Print each item's date\n",
    "    print(item.date)\n",
    "\n",
    "    # Print each item's riders\n",
    "    print(item.riders)\n"
   ]
  },
  {
   "cell_type": "code",
   "execution_count": null,
   "id": "ec074585-560c-4c10-8e97-30a506410b61",
   "metadata": {},
   "outputs": [],
   "source": []
  }
 ],
 "metadata": {
  "kernelspec": {
   "display_name": "Python 3 (ipykernel)",
   "language": "python",
   "name": "python3"
  },
  "language_info": {
   "codemirror_mode": {
    "name": "ipython",
    "version": 3
   },
   "file_extension": ".py",
   "mimetype": "text/x-python",
   "name": "python",
   "nbconvert_exporter": "python",
   "pygments_lexer": "ipython3",
   "version": "3.8.12"
  }
 },
 "nbformat": 4,
 "nbformat_minor": 5
}
