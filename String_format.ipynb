{
 "cells": [
  {
   "cell_type": "markdown",
   "id": "03fe4b1e-4385-41f8-b299-aa1e37a52e86",
   "metadata": {},
   "source": [
    "# Python String format()"
   ]
  },
  {
   "cell_type": "code",
   "execution_count": 1,
   "id": "76152148-b075-49e5-83e2-fab2ca53de77",
   "metadata": {},
   "outputs": [
    {
     "name": "stdout",
     "output_type": "stream",
     "text": [
      "String formatting is a powerful technique\n"
     ]
    }
   ],
   "source": [
    "custom_string = \"String formatting\"\n",
    "print(f\"{custom_string} is a powerful technique\")"
   ]
  },
  {
   "cell_type": "markdown",
   "id": "182373c5-6e3a-4455-b832-199a43c88344",
   "metadata": {},
   "source": [
    "### Positional Formatting"
   ]
  },
  {
   "cell_type": "code",
   "execution_count": 2,
   "id": "14b5d3a6-a38e-46e8-90cb-45bc4a2a459b",
   "metadata": {},
   "outputs": [
    {
     "name": "stdout",
     "output_type": "stream",
     "text": [
      "Machine learning provides systems the ability to learn automatically\n"
     ]
    }
   ],
   "source": [
    "print(\"Machine learning provides {} the ability to learn {}\".format(\"systems\", \"automatically\"))"
   ]
  },
  {
   "cell_type": "code",
   "execution_count": 4,
   "id": "c6886812-9e26-4165-b2e7-8eec9f273d26",
   "metadata": {},
   "outputs": [
    {
     "name": "stdout",
     "output_type": "stream",
     "text": [
      "Supervised algorithms rely on labeled datasets\n"
     ]
    }
   ],
   "source": [
    "my_string = \"{} rely on {} datasets\"\n",
    "method = \"Supervised algorithms\"\n",
    "condition = \"labeled\"\n",
    "print(my_string.format(method, condition))"
   ]
  },
  {
   "cell_type": "code",
   "execution_count": 5,
   "id": "13631c45-fb23-468f-a312-d6c3668afa00",
   "metadata": {},
   "outputs": [
    {
     "name": "stdout",
     "output_type": "stream",
     "text": [
      "Betty has a friend called Linda and a sister called Daisy\n"
     ]
    }
   ],
   "source": [
    "print(\"{} has a friend called {} and a sister called {}\". format(\"Betty\", \"Linda\", \"Daisy\"))"
   ]
  },
  {
   "cell_type": "markdown",
   "id": "15cc6823-80a3-4af4-9d44-d8d66ace02b7",
   "metadata": {},
   "source": [
    "### Reordering Values"
   ]
  },
  {
   "cell_type": "code",
   "execution_count": 6,
   "id": "d32b7277-c5be-4d6b-aa9b-e59a4ad7dbaf",
   "metadata": {},
   "outputs": [
    {
     "name": "stdout",
     "output_type": "stream",
     "text": [
      "Daisy has a friend called Betty and a sister called Linda\n"
     ]
    }
   ],
   "source": [
    "print(\"{2} has a friend called {0} and a sister called {1}\". format(\"Betty\", \"Linda\", \"Daisy\"))"
   ]
  },
  {
   "cell_type": "markdown",
   "id": "c5adec4a-53ac-4b9f-8ad7-144a265e7647",
   "metadata": {},
   "source": [
    "### Name Placeholders"
   ]
  },
  {
   "cell_type": "code",
   "execution_count": 7,
   "id": "b382b3a3-36e4-45eb-b1ea-7deb3a9a805d",
   "metadata": {},
   "outputs": [
    {
     "name": "stdout",
     "output_type": "stream",
     "text": [
      "Unsupervised algorithms try to find patterns in the dataset\n"
     ]
    }
   ],
   "source": [
    "tool=\"Unsupervised algorithms\"\n",
    "goal=\"patterns\"\n",
    "print(\"{title} try to find {aim} in the dataset\".format(title=tool, aim=goal))"
   ]
  },
  {
   "cell_type": "code",
   "execution_count": 8,
   "id": "55ee6a77-0d4e-4990-a9a0-ec813213d398",
   "metadata": {},
   "outputs": [
    {
     "name": "stdout",
     "output_type": "stream",
     "text": [
      "Unsupervised algorithms try to find patterns in the dataset\n"
     ]
    }
   ],
   "source": [
    "my_methods = {\"tool\": \"Unsupervised algorithms\", \"goal\": \"patterns\"}\n",
    "print('{data[tool]} try to find {data[goal]} in the dataset'.format(data=my_methods))"
   ]
  },
  {
   "cell_type": "markdown",
   "id": "b9ac8aaa-b0d1-48ac-b690-30903e0df76c",
   "metadata": {},
   "source": [
    "### Format Specifier"
   ]
  },
  {
   "cell_type": "code",
   "execution_count": 9,
   "id": "cbeddc31-a5cc-455a-8bf8-7436757f614f",
   "metadata": {},
   "outputs": [
    {
     "name": "stdout",
     "output_type": "stream",
     "text": [
      "Only 0.515567% of the data produced worldwide is analyzed!\n"
     ]
    }
   ],
   "source": [
    "print(\"Only {0:f}% of the {1} produced worldwide is {2}!\". format(0.5155675, \"data\", \"analyzed\"))"
   ]
  },
  {
   "cell_type": "code",
   "execution_count": 10,
   "id": "283cf455-f472-472f-98fa-3d01df79dac5",
   "metadata": {},
   "outputs": [
    {
     "name": "stdout",
     "output_type": "stream",
     "text": [
      "Only 0.52% of the data produced worldwide is analyzed!\n"
     ]
    }
   ],
   "source": [
    "print(\"Only {0:.2f}% of the {1} produced worldwide is {2}!\".format(0.5155675, \"data\", \"analyzed\"))"
   ]
  },
  {
   "cell_type": "markdown",
   "id": "7aaba4b0-c2e2-42f0-91f3-e5d428629eea",
   "metadata": {},
   "source": [
    "### Formatting datetime"
   ]
  },
  {
   "cell_type": "code",
   "execution_count": 11,
   "id": "a2d4f162-01f9-4cde-9e8c-94135bda6bd8",
   "metadata": {},
   "outputs": [
    {
     "name": "stdout",
     "output_type": "stream",
     "text": [
      "2021-11-10 15:04:13.227009\n"
     ]
    }
   ],
   "source": [
    "from datetime import datetime\n",
    "print(datetime.now())"
   ]
  },
  {
   "cell_type": "code",
   "execution_count": 12,
   "id": "a48f6dc3-8323-4a07-ba05-82617bb55f02",
   "metadata": {},
   "outputs": [
    {
     "name": "stdout",
     "output_type": "stream",
     "text": [
      "Today's date is 2021-11-10 15:04\n"
     ]
    }
   ],
   "source": [
    "print(\"Today's date is {:%Y-%m-%d %H:%M}\".format(datetime.now()))"
   ]
  },
  {
   "cell_type": "code",
   "execution_count": null,
   "id": "191e38b1-d35c-429d-aa67-e66b93b38cfb",
   "metadata": {},
   "outputs": [],
   "source": []
  }
 ],
 "metadata": {
  "kernelspec": {
   "display_name": "Python 3 (ipykernel)",
   "language": "python",
   "name": "python3"
  },
  "language_info": {
   "codemirror_mode": {
    "name": "ipython",
    "version": 3
   },
   "file_extension": ".py",
   "mimetype": "text/x-python",
   "name": "python",
   "nbconvert_exporter": "python",
   "pygments_lexer": "ipython3",
   "version": "3.8.12"
  }
 },
 "nbformat": 4,
 "nbformat_minor": 5
}
